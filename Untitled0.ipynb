{
  "nbformat": 4,
  "nbformat_minor": 0,
  "metadata": {
    "colab": {
      "name": "Untitled0.ipynb",
      "provenance": [],
      "authorship_tag": "ABX9TyOlpsmAwYFhSG3/5e1GR3/Q",
      "include_colab_link": true
    },
    "kernelspec": {
      "name": "python3",
      "display_name": "Python 3"
    },
    "language_info": {
      "name": "python"
    }
  },
  "cells": [
    {
      "cell_type": "markdown",
      "metadata": {
        "id": "view-in-github",
        "colab_type": "text"
      },
      "source": [
        "<a href=\"https://colab.research.google.com/github/RajatShakya23/ANN_learn/blob/main/Untitled0.ipynb\" target=\"_parent\"><img src=\"https://colab.research.google.com/assets/colab-badge.svg\" alt=\"Open In Colab\"/></a>"
      ]
    },
    {
      "cell_type": "code",
      "metadata": {
        "id": "24eRAjbnug5Q"
      },
      "source": [
        "import tensorflow as tf\n",
        "import numpy as np\n",
        "import pandas as pd\n",
        "from tensorflow import keras\n",
        "import os\n",
        "import urllib\n"
      ],
      "execution_count": null,
      "outputs": []
    },
    {
      "cell_type": "code",
      "metadata": {
        "colab": {
          "base_uri": "https://localhost:8080/",
          "height": 165
        },
        "id": "rQ5cyRUtzzjP",
        "outputId": "7cb88f1f-0ad1-461a-a448-32c21721c9eb"
      },
      "source": [
        "urllib.request('https://archive.ics.uci.edu/ml/machine-learning-')"
      ],
      "execution_count": null,
      "outputs": [
        {
          "output_type": "error",
          "ename": "TypeError",
          "evalue": "ignored",
          "traceback": [
            "\u001b[0;31m---------------------------------------------------------------------------\u001b[0m",
            "\u001b[0;31mTypeError\u001b[0m                                 Traceback (most recent call last)",
            "\u001b[0;32m<ipython-input-28-01735b1ec896>\u001b[0m in \u001b[0;36m<module>\u001b[0;34m()\u001b[0m\n\u001b[0;32m----> 1\u001b[0;31m \u001b[0murllib\u001b[0m\u001b[0;34m.\u001b[0m\u001b[0mrequest\u001b[0m\u001b[0;34m(\u001b[0m\u001b[0;34m'https://archive.ics.uci.edu/ml/machine-learning-databases/iris/'\u001b[0m\u001b[0;34m)\u001b[0m\u001b[0;34m\u001b[0m\u001b[0;34m\u001b[0m\u001b[0m\n\u001b[0m",
            "\u001b[0;31mTypeError\u001b[0m: 'module' object is not callable"
          ]
        }
      ]
    },
    {
      "cell_type": "code",
      "metadata": {
        "colab": {
          "base_uri": "https://localhost:8080/"
        },
        "id": "2POFBZKqvoZZ",
        "outputId": "314aea1b-7ced-459d-ef33-eacaf5fd6d05"
      },
      "source": [
        "train_df = pd.read_csv(r'/content/sample_data/iris.data')\n",
        "np.random.shuffle(train_df.values)\n",
        "train_df.head() \n",
        "\n",
        "\n",
        "\n",
        "'''\n",
        "train_df = np.array(train_df.values)\n",
        "np.random.shuffle(train_df)\n",
        "train_df\n",
        "'''\n",
        "train_df.values"
      ],
      "execution_count": null,
      "outputs": [
        {
          "output_type": "execute_result",
          "data": {
            "text/plain": [
              "array([[5.1, 3.5, 1.4, 0.2, 'Iris-setosa', 0],\n",
              "       [4.9, 3.0, 1.4, 0.2, 'Iris-setosa', 0],\n",
              "       [4.7, 3.2, 1.3, 0.2, 'Iris-setosa', 0],\n",
              "       [4.6, 3.1, 1.5, 0.2, 'Iris-setosa', 0],\n",
              "       [5.0, 3.6, 1.4, 0.2, 'Iris-setosa', 0],\n",
              "       [5.4, 3.9, 1.7, 0.4, 'Iris-setosa', 0],\n",
              "       [4.6, 3.4, 1.4, 0.3, 'Iris-setosa', 0],\n",
              "       [5.0, 3.4, 1.5, 0.2, 'Iris-setosa', 0],\n",
              "       [4.4, 2.9, 1.4, 0.2, 'Iris-setosa', 0],\n",
              "       [4.9, 3.1, 1.5, 0.1, 'Iris-setosa', 0],\n",
              "       [5.4, 3.7, 1.5, 0.2, 'Iris-setosa', 0],\n",
              "       [4.8, 3.4, 1.6, 0.2, 'Iris-setosa', 0],\n",
              "       [4.8, 3.0, 1.4, 0.1, 'Iris-setosa', 0],\n",
              "       [4.3, 3.0, 1.1, 0.1, 'Iris-setosa', 0],\n",
              "       [5.8, 4.0, 1.2, 0.2, 'Iris-setosa', 0],\n",
              "       [5.7, 4.4, 1.5, 0.4, 'Iris-setosa', 0],\n",
              "       [5.4, 3.9, 1.3, 0.4, 'Iris-setosa', 0],\n",
              "       [5.1, 3.5, 1.4, 0.3, 'Iris-setosa', 0],\n",
              "       [5.7, 3.8, 1.7, 0.3, 'Iris-setosa', 0],\n",
              "       [5.1, 3.8, 1.5, 0.3, 'Iris-setosa', 0],\n",
              "       [5.4, 3.4, 1.7, 0.2, 'Iris-setosa', 0],\n",
              "       [5.1, 3.7, 1.5, 0.4, 'Iris-setosa', 0],\n",
              "       [4.6, 3.6, 1.0, 0.2, 'Iris-setosa', 0],\n",
              "       [5.1, 3.3, 1.7, 0.5, 'Iris-setosa', 0],\n",
              "       [4.8, 3.4, 1.9, 0.2, 'Iris-setosa', 0],\n",
              "       [5.0, 3.0, 1.6, 0.2, 'Iris-setosa', 0],\n",
              "       [5.0, 3.4, 1.6, 0.4, 'Iris-setosa', 0],\n",
              "       [5.2, 3.5, 1.5, 0.2, 'Iris-setosa', 0],\n",
              "       [5.2, 3.4, 1.4, 0.2, 'Iris-setosa', 0],\n",
              "       [4.7, 3.2, 1.6, 0.2, 'Iris-setosa', 0],\n",
              "       [4.8, 3.1, 1.6, 0.2, 'Iris-setosa', 0],\n",
              "       [5.4, 3.4, 1.5, 0.4, 'Iris-setosa', 0],\n",
              "       [5.2, 4.1, 1.5, 0.1, 'Iris-setosa', 0],\n",
              "       [5.5, 4.2, 1.4, 0.2, 'Iris-setosa', 0],\n",
              "       [4.9, 3.1, 1.5, 0.1, 'Iris-setosa', 0],\n",
              "       [5.0, 3.2, 1.2, 0.2, 'Iris-setosa', 0],\n",
              "       [5.5, 3.5, 1.3, 0.2, 'Iris-setosa', 0],\n",
              "       [4.9, 3.1, 1.5, 0.1, 'Iris-setosa', 0],\n",
              "       [4.4, 3.0, 1.3, 0.2, 'Iris-setosa', 0],\n",
              "       [5.1, 3.4, 1.5, 0.2, 'Iris-setosa', 0],\n",
              "       [5.0, 3.5, 1.3, 0.3, 'Iris-setosa', 0],\n",
              "       [4.5, 2.3, 1.3, 0.3, 'Iris-setosa', 0],\n",
              "       [4.4, 3.2, 1.3, 0.2, 'Iris-setosa', 0],\n",
              "       [5.0, 3.5, 1.6, 0.6, 'Iris-setosa', 0],\n",
              "       [5.1, 3.8, 1.9, 0.4, 'Iris-setosa', 0],\n",
              "       [4.8, 3.0, 1.4, 0.3, 'Iris-setosa', 0],\n",
              "       [5.1, 3.8, 1.6, 0.2, 'Iris-setosa', 0],\n",
              "       [4.6, 3.2, 1.4, 0.2, 'Iris-setosa', 0],\n",
              "       [5.3, 3.7, 1.5, 0.2, 'Iris-setosa', 0],\n",
              "       [5.0, 3.3, 1.4, 0.2, 'Iris-setosa', 0],\n",
              "       [7.0, 3.2, 4.7, 1.4, 'Iris-versicolor', 1],\n",
              "       [6.4, 3.2, 4.5, 1.5, 'Iris-versicolor', 1],\n",
              "       [6.9, 3.1, 4.9, 1.5, 'Iris-versicolor', 1],\n",
              "       [5.5, 2.3, 4.0, 1.3, 'Iris-versicolor', 1],\n",
              "       [6.5, 2.8, 4.6, 1.5, 'Iris-versicolor', 1],\n",
              "       [5.7, 2.8, 4.5, 1.3, 'Iris-versicolor', 1],\n",
              "       [6.3, 3.3, 4.7, 1.6, 'Iris-versicolor', 1],\n",
              "       [4.9, 2.4, 3.3, 1.0, 'Iris-versicolor', 1],\n",
              "       [6.6, 2.9, 4.6, 1.3, 'Iris-versicolor', 1],\n",
              "       [5.2, 2.7, 3.9, 1.4, 'Iris-versicolor', 1],\n",
              "       [5.0, 2.0, 3.5, 1.0, 'Iris-versicolor', 1],\n",
              "       [5.9, 3.0, 4.2, 1.5, 'Iris-versicolor', 1],\n",
              "       [6.0, 2.2, 4.0, 1.0, 'Iris-versicolor', 1],\n",
              "       [6.1, 2.9, 4.7, 1.4, 'Iris-versicolor', 1],\n",
              "       [5.6, 2.9, 3.6, 1.3, 'Iris-versicolor', 1],\n",
              "       [6.7, 3.1, 4.4, 1.4, 'Iris-versicolor', 1],\n",
              "       [5.6, 3.0, 4.5, 1.5, 'Iris-versicolor', 1],\n",
              "       [5.8, 2.7, 4.1, 1.0, 'Iris-versicolor', 1],\n",
              "       [6.2, 2.2, 4.5, 1.5, 'Iris-versicolor', 1],\n",
              "       [5.6, 2.5, 3.9, 1.1, 'Iris-versicolor', 1],\n",
              "       [5.9, 3.2, 4.8, 1.8, 'Iris-versicolor', 1],\n",
              "       [6.1, 2.8, 4.0, 1.3, 'Iris-versicolor', 1],\n",
              "       [6.3, 2.5, 4.9, 1.5, 'Iris-versicolor', 1],\n",
              "       [6.1, 2.8, 4.7, 1.2, 'Iris-versicolor', 1],\n",
              "       [6.4, 2.9, 4.3, 1.3, 'Iris-versicolor', 1],\n",
              "       [6.6, 3.0, 4.4, 1.4, 'Iris-versicolor', 1],\n",
              "       [6.8, 2.8, 4.8, 1.4, 'Iris-versicolor', 1],\n",
              "       [6.7, 3.0, 5.0, 1.7, 'Iris-versicolor', 1],\n",
              "       [6.0, 2.9, 4.5, 1.5, 'Iris-versicolor', 1],\n",
              "       [5.7, 2.6, 3.5, 1.0, 'Iris-versicolor', 1],\n",
              "       [5.5, 2.4, 3.8, 1.1, 'Iris-versicolor', 1],\n",
              "       [5.5, 2.4, 3.7, 1.0, 'Iris-versicolor', 1],\n",
              "       [5.8, 2.7, 3.9, 1.2, 'Iris-versicolor', 1],\n",
              "       [6.0, 2.7, 5.1, 1.6, 'Iris-versicolor', 1],\n",
              "       [5.4, 3.0, 4.5, 1.5, 'Iris-versicolor', 1],\n",
              "       [6.0, 3.4, 4.5, 1.6, 'Iris-versicolor', 1],\n",
              "       [6.7, 3.1, 4.7, 1.5, 'Iris-versicolor', 1],\n",
              "       [6.3, 2.3, 4.4, 1.3, 'Iris-versicolor', 1],\n",
              "       [5.6, 3.0, 4.1, 1.3, 'Iris-versicolor', 1],\n",
              "       [5.5, 2.5, 4.0, 1.3, 'Iris-versicolor', 1],\n",
              "       [5.5, 2.6, 4.4, 1.2, 'Iris-versicolor', 1],\n",
              "       [6.1, 3.0, 4.6, 1.4, 'Iris-versicolor', 1],\n",
              "       [5.8, 2.6, 4.0, 1.2, 'Iris-versicolor', 1],\n",
              "       [5.0, 2.3, 3.3, 1.0, 'Iris-versicolor', 1],\n",
              "       [5.6, 2.7, 4.2, 1.3, 'Iris-versicolor', 1],\n",
              "       [5.7, 3.0, 4.2, 1.2, 'Iris-versicolor', 1],\n",
              "       [5.7, 2.9, 4.2, 1.3, 'Iris-versicolor', 1],\n",
              "       [6.2, 2.9, 4.3, 1.3, 'Iris-versicolor', 1],\n",
              "       [5.1, 2.5, 3.0, 1.1, 'Iris-versicolor', 1],\n",
              "       [5.7, 2.8, 4.1, 1.3, 'Iris-versicolor', 1],\n",
              "       [6.3, 3.3, 6.0, 2.5, 'Iris-virginica', 2],\n",
              "       [6.3, 3.3, 6.0, 2.5, 'Iris-virginica', 2],\n",
              "       [5.8, 2.7, 5.1, 1.9, 'Iris-virginica', 2],\n",
              "       [7.1, 3.0, 5.9, 2.1, 'Iris-virginica', 2],\n",
              "       [6.3, 2.9, 5.6, 1.8, 'Iris-virginica', 2],\n",
              "       [6.5, 3.0, 5.8, 2.2, 'Iris-virginica', 2],\n",
              "       [7.6, 3.0, 6.6, 2.1, 'Iris-virginica', 2],\n",
              "       [4.9, 2.5, 4.5, 1.7, 'Iris-virginica', 2],\n",
              "       [7.3, 2.9, 6.3, 1.8, 'Iris-virginica', 2],\n",
              "       [6.7, 2.5, 5.8, 1.8, 'Iris-virginica', 2],\n",
              "       [7.2, 3.6, 6.1, 2.5, 'Iris-virginica', 2],\n",
              "       [6.5, 3.2, 5.1, 2.0, 'Iris-virginica', 2],\n",
              "       [6.4, 2.7, 5.3, 1.9, 'Iris-virginica', 2],\n",
              "       [6.8, 3.0, 5.5, 2.1, 'Iris-virginica', 2],\n",
              "       [5.7, 2.5, 5.0, 2.0, 'Iris-virginica', 2],\n",
              "       [5.8, 2.8, 5.1, 2.4, 'Iris-virginica', 2],\n",
              "       [6.4, 3.2, 5.3, 2.3, 'Iris-virginica', 2],\n",
              "       [6.5, 3.0, 5.5, 1.8, 'Iris-virginica', 2],\n",
              "       [7.7, 3.8, 6.7, 2.2, 'Iris-virginica', 2],\n",
              "       [7.7, 2.6, 6.9, 2.3, 'Iris-virginica', 2],\n",
              "       [6.0, 2.2, 5.0, 1.5, 'Iris-virginica', 2],\n",
              "       [6.9, 3.2, 5.7, 2.3, 'Iris-virginica', 2],\n",
              "       [5.6, 2.8, 4.9, 2.0, 'Iris-virginica', 2],\n",
              "       [7.7, 2.8, 6.7, 2.0, 'Iris-virginica', 2],\n",
              "       [6.3, 2.7, 4.9, 1.8, 'Iris-virginica', 2],\n",
              "       [6.7, 3.3, 5.7, 2.1, 'Iris-virginica', 2],\n",
              "       [7.2, 3.2, 6.0, 1.8, 'Iris-virginica', 2],\n",
              "       [6.2, 2.8, 4.8, 1.8, 'Iris-virginica', 2],\n",
              "       [6.1, 3.0, 4.9, 1.8, 'Iris-virginica', 2],\n",
              "       [6.4, 2.8, 5.6, 2.1, 'Iris-virginica', 2],\n",
              "       [7.2, 3.0, 5.8, 1.6, 'Iris-virginica', 2],\n",
              "       [7.4, 2.8, 6.1, 1.9, 'Iris-virginica', 2],\n",
              "       [7.9, 3.8, 6.4, 2.0, 'Iris-virginica', 2],\n",
              "       [6.4, 2.8, 5.6, 2.2, 'Iris-virginica', 2],\n",
              "       [6.3, 2.8, 5.1, 1.5, 'Iris-virginica', 2],\n",
              "       [6.1, 2.6, 5.6, 1.4, 'Iris-virginica', 2],\n",
              "       [7.7, 3.0, 6.1, 2.3, 'Iris-virginica', 2],\n",
              "       [6.3, 3.4, 5.6, 2.4, 'Iris-virginica', 2],\n",
              "       [6.4, 3.1, 5.5, 1.8, 'Iris-virginica', 2],\n",
              "       [6.0, 3.0, 4.8, 1.8, 'Iris-virginica', 2],\n",
              "       [6.9, 3.1, 5.4, 2.1, 'Iris-virginica', 2],\n",
              "       [6.7, 3.1, 5.6, 2.4, 'Iris-virginica', 2],\n",
              "       [6.9, 3.1, 5.1, 2.3, 'Iris-virginica', 2],\n",
              "       [5.8, 2.7, 5.1, 1.9, 'Iris-virginica', 2],\n",
              "       [6.8, 3.2, 5.9, 2.3, 'Iris-virginica', 2],\n",
              "       [6.7, 3.3, 5.7, 2.5, 'Iris-virginica', 2],\n",
              "       [6.7, 3.0, 5.2, 2.3, 'Iris-virginica', 2],\n",
              "       [6.3, 2.5, 5.0, 1.9, 'Iris-virginica', 2],\n",
              "       [6.5, 3.0, 5.2, 2.0, 'Iris-virginica', 2],\n",
              "       [6.2, 3.4, 5.4, 2.3, 'Iris-virginica', 2],\n",
              "       [5.9, 3.0, 5.1, 1.8, 'Iris-virginica', 2]], dtype=object)"
            ]
          },
          "metadata": {},
          "execution_count": 81
        }
      ]
    },
    {
      "cell_type": "code",
      "metadata": {
        "colab": {
          "base_uri": "https://localhost:8080/",
          "height": 235
        },
        "id": "-Rmdn5XxvREM",
        "outputId": "5ea1aa8b-b66a-47cf-cd01-bcdc9ef23645"
      },
      "source": [
        "\n",
        "\n",
        "model = keras.Sequential([\n",
        "                          keras.layers.Dense(4, input_shape=(2,), activation='relu'),\n",
        "                          keras.layers.Dense(3, activation = \"sigmoid\")])\n",
        "\n",
        "model.compile(optimizer = \"adam\",\n",
        "              loss = keras.losses.SparseCategoricalCrossentropy(from_logits = True),\n",
        "              metrics = ['accuracy']\n",
        "              )\n",
        "\n",
        "x = np.column_stack((train_df.slen.values, train_df.plen.values))\n",
        "#print(x)\n",
        "#model.fit(x, train_df.cls.values, batch_size = 4, epochs = 50)"
      ],
      "execution_count": null,
      "outputs": [
        {
          "output_type": "error",
          "ename": "NameError",
          "evalue": "ignored",
          "traceback": [
            "\u001b[0;31m---------------------------------------------------------------------------\u001b[0m",
            "\u001b[0;31mNameError\u001b[0m                                 Traceback (most recent call last)",
            "\u001b[0;32m<ipython-input-25-1ffa0fa7a113>\u001b[0m in \u001b[0;36m<module>\u001b[0;34m()\u001b[0m\n\u001b[1;32m      1\u001b[0m \u001b[0;34m\u001b[0m\u001b[0m\n\u001b[1;32m      2\u001b[0m \u001b[0;34m\u001b[0m\u001b[0m\n\u001b[0;32m----> 3\u001b[0;31m model = keras.Sequential([\n\u001b[0m\u001b[1;32m      4\u001b[0m                           \u001b[0mkeras\u001b[0m\u001b[0;34m.\u001b[0m\u001b[0mlayers\u001b[0m\u001b[0;34m.\u001b[0m\u001b[0mDense\u001b[0m\u001b[0;34m(\u001b[0m\u001b[0;36m4\u001b[0m\u001b[0;34m,\u001b[0m \u001b[0minput_shape\u001b[0m\u001b[0;34m=\u001b[0m\u001b[0;34m(\u001b[0m\u001b[0;36m2\u001b[0m\u001b[0;34m,\u001b[0m\u001b[0;34m)\u001b[0m\u001b[0;34m,\u001b[0m \u001b[0mactivation\u001b[0m\u001b[0;34m=\u001b[0m\u001b[0;34m'relu'\u001b[0m\u001b[0;34m)\u001b[0m\u001b[0;34m,\u001b[0m\u001b[0;34m\u001b[0m\u001b[0;34m\u001b[0m\u001b[0m\n\u001b[1;32m      5\u001b[0m                           keras.layers.Dense(3, activation = \"sigmoid\")])\n",
            "\u001b[0;31mNameError\u001b[0m: name 'keras' is not defined"
          ]
        }
      ]
    },
    {
      "cell_type": "code",
      "metadata": {
        "id": "aw-EmLw6-blB"
      },
      "source": [
        "test_df = pd.read_csv"
      ],
      "execution_count": null,
      "outputs": []
    },
    {
      "cell_type": "code",
      "metadata": {
        "id": "J7veP2-TbRUo"
      },
      "source": [
        "import numpy as np\n",
        "import matplotlib.pyplot as plt\n",
        "import tensorflow as tf\n",
        "\n",
        "observations=1000\n",
        "xs=np.random.uniform(-10,10,(observations,1))\n",
        "zs=np.random.uniform(-10,10,(observations,1))\n",
        "generated_inputs=np.column_stack((xs,zs))\n",
        "noise=np.random.uniform(-10,10,(observations,1))\n",
        "generated_target=2*xs-3*zs+5+0.5*noise"
      ],
      "execution_count": null,
      "outputs": []
    },
    {
      "cell_type": "code",
      "metadata": {
        "colab": {
          "base_uri": "https://localhost:8080/",
          "height": 1000
        },
        "id": "S1HwvA6FbZaI",
        "outputId": "6a1aec21-163b-412d-868c-7d25066bcc63"
      },
      "source": [
        "import matplotlib.pyplot as plt\n",
        "plt.figure(1)\n",
        "plt.scatter(zs, generated_target)\n",
        "plt.scatter(xs, generated_target)\n",
        "#scatter(xs*zs, generated_target)\n",
        "np.savez('TF_intro',input=generated_inputs,targets=generated_target)\n",
        "training_data=np.load('TF_intro.npz')\n",
        "\n",
        "\n",
        "\n",
        "# Input Nodes\n",
        "input_size=2\n",
        "\n",
        "# Output Nodes\n",
        "output_size=1\n",
        "\n",
        "# Hidden Layers\n",
        "models = tf.keras.Sequential([\n",
        "                             tf.keras.layers.Dense(output_size)\n",
        "                            ])\n",
        "\n",
        "# Optimizer: Schotastic Gradient descent\n",
        "custom_optimizer=tf.keras.optimizers.SGD(learning_rate=0.02)\n",
        "\n",
        "# Train\n",
        "models.compile(optimizer=custom_optimizer,loss='mean_squared_error')\n",
        "models.fit(\n",
        "    training_data['input'],training_data['targets'],epochs=100,verbose=1)\n",
        "\n",
        "\n",
        "# Get the weights\n",
        "models.layers[0].get_weights()\n",
        "\n",
        "weights=models.layers[0].get_weights()[0]\n",
        "bias=models.layers[0].get_weights()[1]\n",
        "\n",
        "print(weights, bias)\n",
        "\n",
        "\n",
        "out=training_data['targets'].round(1)\n",
        "from sklearn.metrics import mean_squared_error\n",
        "mean_squared_error(generated_target, out, squared=False)\n",
        "\n",
        "\n",
        "plt.figure(2)\n",
        "plt.scatter(\n",
        "    np.squeeze(models.predict_on_batch(training_data['input'])),\n",
        "    np.squeeze(training_data['targets']),c='#88c999'\n",
        "    )\n",
        "\n",
        "plt.xlabel('Input')\n",
        "plt.ylabel('Predicted Output')\n",
        "plt.show()\n",
        "\n",
        "\n"
      ],
      "execution_count": null,
      "outputs": [
        {
          "output_type": "stream",
          "name": "stdout",
          "text": [
            "Epoch 1/100\n",
            "32/32 [==============================] - 0s 1ms/step - loss: 29.1643\n",
            "Epoch 2/100\n",
            "32/32 [==============================] - 0s 1ms/step - loss: 10.0681\n",
            "Epoch 3/100\n",
            "32/32 [==============================] - 0s 1ms/step - loss: 9.6983\n",
            "Epoch 4/100\n",
            "32/32 [==============================] - 0s 1ms/step - loss: 9.8917\n",
            "Epoch 5/100\n",
            "32/32 [==============================] - 0s 1ms/step - loss: 9.6079\n",
            "Epoch 6/100\n",
            "32/32 [==============================] - 0s 1ms/step - loss: 9.3455\n",
            "Epoch 7/100\n",
            "32/32 [==============================] - 0s 1ms/step - loss: 10.5659\n",
            "Epoch 8/100\n",
            "32/32 [==============================] - 0s 1ms/step - loss: 9.5851\n",
            "Epoch 9/100\n",
            "32/32 [==============================] - 0s 1ms/step - loss: 10.2272\n",
            "Epoch 10/100\n",
            "32/32 [==============================] - 0s 1ms/step - loss: 9.7908\n",
            "Epoch 11/100\n",
            "32/32 [==============================] - 0s 1ms/step - loss: 9.0462\n",
            "Epoch 12/100\n",
            "32/32 [==============================] - 0s 1ms/step - loss: 9.6100\n",
            "Epoch 13/100\n",
            "32/32 [==============================] - 0s 1ms/step - loss: 9.6493\n",
            "Epoch 14/100\n",
            "32/32 [==============================] - 0s 1ms/step - loss: 9.8725\n",
            "Epoch 15/100\n",
            "32/32 [==============================] - 0s 1ms/step - loss: 9.1307\n",
            "Epoch 16/100\n",
            "32/32 [==============================] - 0s 1ms/step - loss: 9.6643\n",
            "Epoch 17/100\n",
            "32/32 [==============================] - 0s 971us/step - loss: 9.8117\n",
            "Epoch 18/100\n",
            "32/32 [==============================] - 0s 969us/step - loss: 10.1710\n",
            "Epoch 19/100\n",
            "32/32 [==============================] - 0s 1ms/step - loss: 10.5453\n",
            "Epoch 20/100\n",
            "32/32 [==============================] - 0s 1ms/step - loss: 9.3739\n",
            "Epoch 21/100\n",
            "32/32 [==============================] - 0s 1ms/step - loss: 9.3253\n",
            "Epoch 22/100\n",
            "32/32 [==============================] - 0s 959us/step - loss: 9.0402\n",
            "Epoch 23/100\n",
            "32/32 [==============================] - 0s 1ms/step - loss: 10.2622\n",
            "Epoch 24/100\n",
            "32/32 [==============================] - 0s 1ms/step - loss: 8.7484\n",
            "Epoch 25/100\n",
            "32/32 [==============================] - 0s 978us/step - loss: 9.3886\n",
            "Epoch 26/100\n",
            "32/32 [==============================] - 0s 1ms/step - loss: 9.6522\n",
            "Epoch 27/100\n",
            "32/32 [==============================] - 0s 921us/step - loss: 8.7243\n",
            "Epoch 28/100\n",
            "32/32 [==============================] - 0s 1000us/step - loss: 9.3813\n",
            "Epoch 29/100\n",
            "32/32 [==============================] - 0s 1ms/step - loss: 9.1645\n",
            "Epoch 30/100\n",
            "32/32 [==============================] - 0s 1ms/step - loss: 10.0134\n",
            "Epoch 31/100\n",
            "32/32 [==============================] - 0s 1ms/step - loss: 9.3211\n",
            "Epoch 32/100\n",
            "32/32 [==============================] - 0s 1ms/step - loss: 9.6870\n",
            "Epoch 33/100\n",
            "32/32 [==============================] - 0s 1ms/step - loss: 10.6121\n",
            "Epoch 34/100\n",
            "32/32 [==============================] - 0s 969us/step - loss: 10.9961\n",
            "Epoch 35/100\n",
            "32/32 [==============================] - 0s 1ms/step - loss: 9.5342\n",
            "Epoch 36/100\n",
            "32/32 [==============================] - 0s 1ms/step - loss: 9.5303\n",
            "Epoch 37/100\n",
            "32/32 [==============================] - 0s 1ms/step - loss: 9.2065\n",
            "Epoch 38/100\n",
            "32/32 [==============================] - 0s 943us/step - loss: 8.9396\n",
            "Epoch 39/100\n",
            "32/32 [==============================] - 0s 977us/step - loss: 10.4973\n",
            "Epoch 40/100\n",
            "32/32 [==============================] - 0s 971us/step - loss: 9.9964\n",
            "Epoch 41/100\n",
            "32/32 [==============================] - 0s 1ms/step - loss: 9.2063\n",
            "Epoch 42/100\n",
            "32/32 [==============================] - 0s 1ms/step - loss: 9.0155\n",
            "Epoch 43/100\n",
            "32/32 [==============================] - 0s 1ms/step - loss: 9.0480\n",
            "Epoch 44/100\n",
            "32/32 [==============================] - 0s 1ms/step - loss: 9.3655\n",
            "Epoch 45/100\n",
            "32/32 [==============================] - 0s 1ms/step - loss: 9.8358\n",
            "Epoch 46/100\n",
            "32/32 [==============================] - 0s 972us/step - loss: 9.5989\n",
            "Epoch 47/100\n",
            "32/32 [==============================] - 0s 1ms/step - loss: 8.9919\n",
            "Epoch 48/100\n",
            "32/32 [==============================] - 0s 1ms/step - loss: 8.9676\n",
            "Epoch 49/100\n",
            "32/32 [==============================] - 0s 1ms/step - loss: 9.6700\n",
            "Epoch 50/100\n",
            "32/32 [==============================] - 0s 1ms/step - loss: 9.0877\n",
            "Epoch 51/100\n",
            "32/32 [==============================] - 0s 1ms/step - loss: 9.8550\n",
            "Epoch 52/100\n",
            "32/32 [==============================] - 0s 1ms/step - loss: 9.4651\n",
            "Epoch 53/100\n",
            "32/32 [==============================] - 0s 1ms/step - loss: 8.9822\n",
            "Epoch 54/100\n",
            "32/32 [==============================] - 0s 1ms/step - loss: 8.9881\n",
            "Epoch 55/100\n",
            "32/32 [==============================] - 0s 1ms/step - loss: 9.6713\n",
            "Epoch 56/100\n",
            "32/32 [==============================] - 0s 1ms/step - loss: 9.8572\n",
            "Epoch 57/100\n",
            "32/32 [==============================] - 0s 1ms/step - loss: 9.1555\n",
            "Epoch 58/100\n",
            "32/32 [==============================] - 0s 935us/step - loss: 10.5842\n",
            "Epoch 59/100\n",
            "32/32 [==============================] - 0s 969us/step - loss: 10.1125\n",
            "Epoch 60/100\n",
            "32/32 [==============================] - 0s 1ms/step - loss: 9.7588\n",
            "Epoch 61/100\n",
            "32/32 [==============================] - 0s 1ms/step - loss: 11.1971\n",
            "Epoch 62/100\n",
            "32/32 [==============================] - 0s 1ms/step - loss: 9.4413\n",
            "Epoch 63/100\n",
            "32/32 [==============================] - 0s 993us/step - loss: 9.0272\n",
            "Epoch 64/100\n",
            "32/32 [==============================] - 0s 993us/step - loss: 9.9113\n",
            "Epoch 65/100\n",
            "32/32 [==============================] - 0s 995us/step - loss: 9.9459\n",
            "Epoch 66/100\n",
            "32/32 [==============================] - 0s 1ms/step - loss: 9.0634\n",
            "Epoch 67/100\n",
            "32/32 [==============================] - 0s 1ms/step - loss: 9.6414\n",
            "Epoch 68/100\n",
            "32/32 [==============================] - 0s 1ms/step - loss: 9.1466\n",
            "Epoch 69/100\n",
            "32/32 [==============================] - 0s 1ms/step - loss: 9.0903\n",
            "Epoch 70/100\n",
            "32/32 [==============================] - 0s 1ms/step - loss: 9.7200\n",
            "Epoch 71/100\n",
            "32/32 [==============================] - 0s 940us/step - loss: 9.1686\n",
            "Epoch 72/100\n",
            "32/32 [==============================] - 0s 1ms/step - loss: 10.0618\n",
            "Epoch 73/100\n",
            "32/32 [==============================] - 0s 1ms/step - loss: 9.4405\n",
            "Epoch 74/100\n",
            "32/32 [==============================] - 0s 1ms/step - loss: 9.9871\n",
            "Epoch 75/100\n",
            "32/32 [==============================] - 0s 1ms/step - loss: 10.4660\n",
            "Epoch 76/100\n",
            "32/32 [==============================] - 0s 1ms/step - loss: 9.2127\n",
            "Epoch 77/100\n",
            "32/32 [==============================] - 0s 1ms/step - loss: 10.5756\n",
            "Epoch 78/100\n",
            "32/32 [==============================] - 0s 1ms/step - loss: 9.2295\n",
            "Epoch 79/100\n",
            "32/32 [==============================] - 0s 1ms/step - loss: 9.0138\n",
            "Epoch 80/100\n",
            "32/32 [==============================] - 0s 1ms/step - loss: 9.2933\n",
            "Epoch 81/100\n",
            "32/32 [==============================] - 0s 1ms/step - loss: 9.4377\n",
            "Epoch 82/100\n",
            "32/32 [==============================] - 0s 1ms/step - loss: 8.6764\n",
            "Epoch 83/100\n",
            "32/32 [==============================] - 0s 1ms/step - loss: 9.7743\n",
            "Epoch 84/100\n",
            "32/32 [==============================] - 0s 1ms/step - loss: 8.7188\n",
            "Epoch 85/100\n",
            "32/32 [==============================] - 0s 1ms/step - loss: 9.8599\n",
            "Epoch 86/100\n",
            "32/32 [==============================] - 0s 1ms/step - loss: 10.2305\n",
            "Epoch 87/100\n",
            "32/32 [==============================] - 0s 1ms/step - loss: 9.7210\n",
            "Epoch 88/100\n",
            "32/32 [==============================] - 0s 1ms/step - loss: 9.4563\n",
            "Epoch 89/100\n",
            "32/32 [==============================] - 0s 1ms/step - loss: 10.0206\n",
            "Epoch 90/100\n",
            "32/32 [==============================] - 0s 1ms/step - loss: 9.9948\n",
            "Epoch 91/100\n",
            "32/32 [==============================] - 0s 1ms/step - loss: 9.9718\n",
            "Epoch 92/100\n",
            "32/32 [==============================] - 0s 1ms/step - loss: 10.1318\n",
            "Epoch 93/100\n",
            "32/32 [==============================] - 0s 1ms/step - loss: 9.4719\n",
            "Epoch 94/100\n",
            "32/32 [==============================] - 0s 1ms/step - loss: 9.2756\n",
            "Epoch 95/100\n",
            "32/32 [==============================] - 0s 1ms/step - loss: 9.3358\n",
            "Epoch 96/100\n",
            "32/32 [==============================] - 0s 1ms/step - loss: 9.8606\n",
            "Epoch 97/100\n",
            "32/32 [==============================] - 0s 1ms/step - loss: 8.9825\n",
            "Epoch 98/100\n",
            "32/32 [==============================] - 0s 1ms/step - loss: 11.2601\n",
            "Epoch 99/100\n",
            "32/32 [==============================] - 0s 1ms/step - loss: 9.9626\n",
            "Epoch 100/100\n",
            "32/32 [==============================] - 0s 1ms/step - loss: 10.7481\n",
            "[[ 1.9064474]\n",
            " [-3.0372171]] [4.9516206]\n"
          ]
        },
        {
          "output_type": "display_data",
          "data": {
            "image/png": "[encoded data removed]",
            "text/plain": [
              "<Figure size 432x288 with 1 Axes>"
            ]
          },
          "metadata": {
            "needs_background": "light"
          }
        },
        {
          "output_type": "display_data",
          "data": {
            "image/png": "[encoded data removed]",
            "text/plain": [
              "<Figure size 432x288 with 1 Axes>"
            ]
          },
          "metadata": {
            "needs_background": "light"
          }
        }
      ]
    },
    {
      "cell_type": "code",
      "metadata": {
        "colab": {
          "base_uri": "https://localhost:8080/",
          "height": 796
        },
        "id": "Pyd2QDtur3EQ",
        "outputId": "fd10ce56-1511-44ad-8711-dbd2ae4406c5"
      },
      "source": [
        "plt.figure(2)\n",
        "plt.scatter(\n",
        "    np.squeeze(models.predict_on_batch(training_data['input'])),\n",
        "    np.squeeze(training_data['targets']),c='#88c999'\n",
        "    )\n",
        "x = range(-60, 70)\n",
        "plt.scatter(x, x)\n",
        "plt.xlabel('Input')\n",
        "plt.ylabel('Predicted Output')\n",
        "plt.show()\n",
        "\n",
        "\n",
        "\n",
        "x_eq = np.array(range(-100, 100))\n",
        "z_eq = np.array(range(-100, 100))\n",
        "\n",
        "y_eq = weights[0]*(x_eq) + weights[1]*z_eq + bias \n",
        "\n",
        "x = np.column_stack((12, 2))\n",
        "\n",
        "k = 12*weights[0] + 2 * weights[1] + bias\n",
        "#print(y_eq)\n",
        "plt.figure(3)\n",
        "plt.scatter(x_eq, y_eq)\n",
        "plt.scatter(xs, generated_target)\n",
        "plt.figure(4)\n",
        "plt.scatter(z_eq, y_eq)\n",
        "plt.scatter(zs, generated_target)\n",
        "#plt.scatter(z_eq, y_eq)\n",
        "models.predict(x)"
      ],
      "execution_count": null,
      "outputs": [
        {
          "output_type": "display_data",
          "data": {
            "image/png": "[encoded data removed]",
            "text/plain": [
              "<Figure size 432x288 with 1 Axes>"
            ]
          },
          "metadata": {
            "needs_background": "light"
          }
        },
        {
          "output_type": "execute_result",
          "data": {
            "text/plain": [
              "array([[23.975641]], dtype=float32)"
            ]
          },
          "metadata": {},
          "execution_count": 80
        },
        {
          "output_type": "display_data",
          "data": {
            "image/png": "[encoded data removed]",
            "text/plain": [
              "<Figure size 432x288 with 1 Axes>"
            ]
          },
          "metadata": {
            "needs_background": "light"
          }
        },
        {
          "output_type": "display_data",
          "data": {
            "image/png": "[encoded data removed]",
            "text/plain": [
              "<Figure size 432x288 with 1 Axes>"
            ]
          },
          "metadata": {
            "needs_background": "light"
          }
        }
      ]
    },
    {
      "cell_type": "code",
      "metadata": {
        "id": "LsJgl3dZC29Q"
      },
      "source": [
        "# Linear regression"
      ],
      "execution_count": null,
      "outputs": []
    },
    {
      "cell_type": "code",
      "metadata": {
        "colab": {
          "base_uri": "https://localhost:8080/",
          "height": 284
        },
        "id": "1TwUE_oo3ubE",
        "outputId": "177d9b20-148e-44b7-90c8-05a2d193cad3"
      },
      "source": [
        "\n",
        "\n",
        "plt.scatter(\n",
        "    np.squeeze(models.predict_on_batch(training_data['input'])),\n",
        "    np.squeeze(training_data['targets']),c='#88c999'\n",
        "    )\n",
        "\n",
        "#np.squeeze(training_data['targets'])"
      ],
      "execution_count": null,
      "outputs": [
        {
          "output_type": "execute_result",
          "data": {
            "text/plain": [
              "<matplotlib.collections.PathCollection at 0x7f4868b48090>"
            ]
          },
          "metadata": {},
          "execution_count": 84
        },
        {
          "output_type": "display_data",
          "data": {
            "image/png": "[encoded data removed]",
            "text/plain": [
              "<Figure size 432x288 with 1 Axes>"
            ]
          },
          "metadata": {
            "needs_background": "light"
          }
        }
      ]
    },
    {
      "cell_type": "code",
      "metadata": {
        "colab": {
          "base_uri": "https://localhost:8080/",
          "height": 525
        },
        "id": "taP14LvEDKUE",
        "outputId": "b32a3efd-299e-4d8e-94ba-dfa8542df45d"
      },
      "source": [
        "# Linear Regression New\n",
        "\n",
        "\n",
        "import math\n",
        "import matplotlib.pyplot as plt\n",
        "import numpy as np\n",
        "from numpy.random import seed\n",
        "#seed(1)\n",
        "import pandas as pd\n",
        "import statsmodels.api as sm\n",
        "import statsmodels.formula.api as smf\n",
        "import tensorflow\n",
        "#tensorflow.random.set_seed(1)\n",
        "from tensorflow.python.keras.layers import Dense\n",
        "from tensorflow.keras.layers import Dropout\n",
        "from tensorflow.python.keras.models import Sequential\n",
        "from tensorflow.python.keras.wrappers.scikit_learn import KerasRegressor\n",
        "from sklearn.metrics import mean_absolute_error\n",
        "from sklearn.metrics import mean_squared_error\n",
        "from sklearn.model_selection import train_test_split\n",
        "from sklearn.preprocessing import MinMaxScaler\n",
        "\n",
        "# Load Data\n",
        "train_df = pd.read_csv(r'/content/H1.csv')\n",
        "\n",
        "\n",
        "\n",
        "# Output Parameter\n",
        "adr = train_df.ADR.values\n",
        "y1 = np.array(adr)\n",
        "\n",
        "# Convert Categorical to Numerical \n",
        "countrycat=train_df.Country.astype(\"category\").cat.codes\n",
        "k = countrycat\n",
        "countrycat=pd.Series(countrycat)\n",
        "\n",
        "IsCanceled=train_df.IsCanceled.values\n",
        "\n",
        "marketsegmentcat=train_df.MarketSegment.astype(\"category\").cat.codes\n",
        "marketsegmentcat=pd.Series(marketsegmentcat)\n",
        "\n",
        "deposittypecat=train_df.DepositType.astype(\"category\").cat.codes\n",
        "deposittypecat=pd.Series(deposittypecat)\n",
        "\n",
        "customertypecat=train_df.CustomerType.astype(\"category\").cat.codes\n",
        "customertypecat=pd.Series(customertypecat)\n",
        "\n",
        "rcps = train_df.RequiredCarParkingSpaces.values\n",
        "\n",
        "arrivaldateweekno=train_df.ArrivalDateWeekNumber.values\n",
        "\n",
        "\n",
        "\n",
        "# Input Parameter\n",
        "x1 = np.column_stack((\n",
        "    IsCanceled,countrycat,marketsegmentcat,deposittypecat,\n",
        "    customertypecat,rcps,arrivaldateweekno\n",
        "    ))\n",
        "x1 = sm.add_constant(x1, prepend=True)\n",
        "\n",
        "\n",
        "# Split dataset\n",
        "X_train, X_val, y_train, y_val = train_test_split(x1, y1)\n",
        "\n",
        "\n",
        "\n",
        "# Normalize..? Standardize..? Imp to be done after split.\n",
        "y_train=np.reshape(y_train, (-1,1))\n",
        "y_val=np.reshape(y_val, (-1,1))\n",
        "scaler_x = MinMaxScaler()\n",
        "scaler_y = MinMaxScaler()\n",
        "\n",
        "print(scaler_x.fit(X_train))\n",
        "xtrain_scale=scaler_x.transform(X_train)\n",
        "\n",
        "print(scaler_x.fit(X_val))\n",
        "xval_scale=scaler_x.transform(X_val)\n",
        "\n",
        "print(scaler_y.fit(y_train))\n",
        "ytrain_scale=scaler_y.transform(y_train)\n",
        "\n",
        "print(scaler_y.fit(y_val))\n",
        "yval_scale=scaler_y.transform(y_val)\n",
        "\n",
        "\n",
        "# Neural Network config\n",
        "# Input nodes = Number of features in the training set + 1\n",
        "ip_nodes = 7 + 1\n",
        "\n",
        "\n",
        "# H_Nodes=Training Data Samples/Factor * (Input Neurons + Output Neurons)\n",
        "#h_nodes = 2670\n",
        "\n",
        "h_nodes = 2670\n",
        "h_nodes_2 = 2670\n",
        "\n",
        "op_nodes = 1\n",
        "\n",
        "\n",
        "# Model Creation\n",
        "model = Sequential()\n",
        "\n",
        "#Input Layer\n",
        "model.add(\n",
        "    Dense(ip_nodes, input_dim=8, \n",
        "          kernel_initializer='normal', activation='relu')\n",
        "    )\n",
        "\n",
        "#Hidden Layer\n",
        "model.add(Dense(h_nodes, activation='relu'))\n",
        "\n",
        "#Output Layer\n",
        "model.add(Dense(op_nodes, activation='linear'))\n",
        "model.summary()\n",
        "\n",
        "\n",
        "# Train Model (Loss functions definitions involved)\n",
        "model.compile(loss='mse', optimizer='adam',\n",
        "              metrics=['mse','mae', 'accuracy'])\n",
        "\n",
        "# Evaluate Model..?\n",
        "history=model.fit(\n",
        "    xtrain_scale, ytrain_scale, epochs=30,\n",
        "    batch_size=150, verbose=1, validation_split=0.2)\n",
        "\n",
        "\n",
        "# Predictions\n",
        "predictions = model.predict(xval_scale)\n",
        "\n",
        "\n",
        "# train_df.head()"
      ],
      "execution_count": 1,
      "outputs": [
        {
          "output_type": "stream",
          "name": "stderr",
          "text": [
            "/usr/local/lib/python3.7/dist-packages/statsmodels/tools/_testing.py:19: FutureWarning: pandas.util.testing is deprecated. Use the functions in the public API at pandas.testing instead.\n",
            "  import pandas.util.testing as tm\n"
          ]
        },
        {
          "output_type": "error",
          "ename": "FileNotFoundError",
          "evalue": "ignored",
          "traceback": [
            "\u001b[0;31m---------------------------------------------------------------------------\u001b[0m",
            "\u001b[0;31mFileNotFoundError\u001b[0m                         Traceback (most recent call last)",
            "\u001b[0;32m<ipython-input-1-344bc3047dfd>\u001b[0m in \u001b[0;36m<module>\u001b[0;34m()\u001b[0m\n\u001b[1;32m     22\u001b[0m \u001b[0;34m\u001b[0m\u001b[0m\n\u001b[1;32m     23\u001b[0m \u001b[0;31m# Load Data\u001b[0m\u001b[0;34m\u001b[0m\u001b[0;34m\u001b[0m\u001b[0;34m\u001b[0m\u001b[0m\n\u001b[0;32m---> 24\u001b[0;31m \u001b[0mtrain_df\u001b[0m \u001b[0;34m=\u001b[0m \u001b[0mpd\u001b[0m\u001b[0;34m.\u001b[0m\u001b[0mread_csv\u001b[0m\u001b[0;34m(\u001b[0m\u001b[0;34mr'/content/H1.csv'\u001b[0m\u001b[0;34m)\u001b[0m\u001b[0;34m\u001b[0m\u001b[0;34m\u001b[0m\u001b[0m\n\u001b[0m\u001b[1;32m     25\u001b[0m \u001b[0;34m\u001b[0m\u001b[0m\n\u001b[1;32m     26\u001b[0m \u001b[0;34m\u001b[0m\u001b[0m\n",
            "\u001b[0;32m/usr/local/lib/python3.7/dist-packages/pandas/io/parsers.py\u001b[0m in \u001b[0;36mread_csv\u001b[0;34m(filepath_or_buffer, sep, delimiter, header, names, index_col, usecols, squeeze, prefix, mangle_dupe_cols, dtype, engine, converters, true_values, false_values, skipinitialspace, skiprows, skipfooter, nrows, na_values, keep_default_na, na_filter, verbose, skip_blank_lines, parse_dates, infer_datetime_format, keep_date_col, date_parser, dayfirst, cache_dates, iterator, chunksize, compression, thousands, decimal, lineterminator, quotechar, quoting, doublequote, escapechar, comment, encoding, dialect, error_bad_lines, warn_bad_lines, delim_whitespace, low_memory, memory_map, float_precision)\u001b[0m\n\u001b[1;32m    686\u001b[0m     )\n\u001b[1;32m    687\u001b[0m \u001b[0;34m\u001b[0m\u001b[0m\n\u001b[0;32m--> 688\u001b[0;31m     \u001b[0;32mreturn\u001b[0m \u001b[0m_read\u001b[0m\u001b[0;34m(\u001b[0m\u001b[0mfilepath_or_buffer\u001b[0m\u001b[0;34m,\u001b[0m \u001b[0mkwds\u001b[0m\u001b[0;34m)\u001b[0m\u001b[0;34m\u001b[0m\u001b[0;34m\u001b[0m\u001b[0m\n\u001b[0m\u001b[1;32m    689\u001b[0m \u001b[0;34m\u001b[0m\u001b[0m\n\u001b[1;32m    690\u001b[0m \u001b[0;34m\u001b[0m\u001b[0m\n",
            "\u001b[0;32m/usr/local/lib/python3.7/dist-packages/pandas/io/parsers.py\u001b[0m in \u001b[0;36m_read\u001b[0;34m(filepath_or_buffer, kwds)\u001b[0m\n\u001b[1;32m    452\u001b[0m \u001b[0;34m\u001b[0m\u001b[0m\n\u001b[1;32m    453\u001b[0m     \u001b[0;31m# Create the parser.\u001b[0m\u001b[0;34m\u001b[0m\u001b[0;34m\u001b[0m\u001b[0;34m\u001b[0m\u001b[0m\n\u001b[0;32m--> 454\u001b[0;31m     \u001b[0mparser\u001b[0m \u001b[0;34m=\u001b[0m \u001b[0mTextFileReader\u001b[0m\u001b[0;34m(\u001b[0m\u001b[0mfp_or_buf\u001b[0m\u001b[0;34m,\u001b[0m \u001b[0;34m**\u001b[0m\u001b[0mkwds\u001b[0m\u001b[0;34m)\u001b[0m\u001b[0;34m\u001b[0m\u001b[0;34m\u001b[0m\u001b[0m\n\u001b[0m\u001b[1;32m    455\u001b[0m \u001b[0;34m\u001b[0m\u001b[0m\n\u001b[1;32m    456\u001b[0m     \u001b[0;32mif\u001b[0m \u001b[0mchunksize\u001b[0m \u001b[0;32mor\u001b[0m \u001b[0miterator\u001b[0m\u001b[0;34m:\u001b[0m\u001b[0;34m\u001b[0m\u001b[0;34m\u001b[0m\u001b[0m\n",
            "\u001b[0;32m/usr/local/lib/python3.7/dist-packages/pandas/io/parsers.py\u001b[0m in \u001b[0;36m__init__\u001b[0;34m(self, f, engine, **kwds)\u001b[0m\n\u001b[1;32m    946\u001b[0m             \u001b[0mself\u001b[0m\u001b[0;34m.\u001b[0m\u001b[0moptions\u001b[0m\u001b[0;34m[\u001b[0m\u001b[0;34m\"has_index_names\"\u001b[0m\u001b[0;34m]\u001b[0m \u001b[0;34m=\u001b[0m \u001b[0mkwds\u001b[0m\u001b[0;34m[\u001b[0m\u001b[0;34m\"has_index_names\"\u001b[0m\u001b[0;34m]\u001b[0m\u001b[0;34m\u001b[0m\u001b[0;34m\u001b[0m\u001b[0m\n\u001b[1;32m    947\u001b[0m \u001b[0;34m\u001b[0m\u001b[0m\n\u001b[0;32m--> 948\u001b[0;31m         \u001b[0mself\u001b[0m\u001b[0;34m.\u001b[0m\u001b[0m_make_engine\u001b[0m\u001b[0;34m(\u001b[0m\u001b[0mself\u001b[0m\u001b[0;34m.\u001b[0m\u001b[0mengine\u001b[0m\u001b[0;34m)\u001b[0m\u001b[0;34m\u001b[0m\u001b[0;34m\u001b[0m\u001b[0m\n\u001b[0m\u001b[1;32m    949\u001b[0m \u001b[0;34m\u001b[0m\u001b[0m\n\u001b[1;32m    950\u001b[0m     \u001b[0;32mdef\u001b[0m \u001b[0mclose\u001b[0m\u001b[0;34m(\u001b[0m\u001b[0mself\u001b[0m\u001b[0;34m)\u001b[0m\u001b[0;34m:\u001b[0m\u001b[0;34m\u001b[0m\u001b[0;34m\u001b[0m\u001b[0m\n",
            "\u001b[0;32m/usr/local/lib/python3.7/dist-packages/pandas/io/parsers.py\u001b[0m in \u001b[0;36m_make_engine\u001b[0;34m(self, engine)\u001b[0m\n\u001b[1;32m   1178\u001b[0m     \u001b[0;32mdef\u001b[0m \u001b[0m_make_engine\u001b[0m\u001b[0;34m(\u001b[0m\u001b[0mself\u001b[0m\u001b[0;34m,\u001b[0m \u001b[0mengine\u001b[0m\u001b[0;34m=\u001b[0m\u001b[0;34m\"c\"\u001b[0m\u001b[0;34m)\u001b[0m\u001b[0;34m:\u001b[0m\u001b[0;34m\u001b[0m\u001b[0;34m\u001b[0m\u001b[0m\n\u001b[1;32m   1179\u001b[0m         \u001b[0;32mif\u001b[0m \u001b[0mengine\u001b[0m \u001b[0;34m==\u001b[0m \u001b[0;34m\"c\"\u001b[0m\u001b[0;34m:\u001b[0m\u001b[0;34m\u001b[0m\u001b[0;34m\u001b[0m\u001b[0m\n\u001b[0;32m-> 1180\u001b[0;31m             \u001b[0mself\u001b[0m\u001b[0;34m.\u001b[0m\u001b[0m_engine\u001b[0m \u001b[0;34m=\u001b[0m \u001b[0mCParserWrapper\u001b[0m\u001b[0;34m(\u001b[0m\u001b[0mself\u001b[0m\u001b[0;34m.\u001b[0m\u001b[0mf\u001b[0m\u001b[0;34m,\u001b[0m \u001b[0;34m**\u001b[0m\u001b[0mself\u001b[0m\u001b[0;34m.\u001b[0m\u001b[0moptions\u001b[0m\u001b[0;34m)\u001b[0m\u001b[0;34m\u001b[0m\u001b[0;34m\u001b[0m\u001b[0m\n\u001b[0m\u001b[1;32m   1181\u001b[0m         \u001b[0;32melse\u001b[0m\u001b[0;34m:\u001b[0m\u001b[0;34m\u001b[0m\u001b[0;34m\u001b[0m\u001b[0m\n\u001b[1;32m   1182\u001b[0m             \u001b[0;32mif\u001b[0m \u001b[0mengine\u001b[0m \u001b[0;34m==\u001b[0m \u001b[0;34m\"python\"\u001b[0m\u001b[0;34m:\u001b[0m\u001b[0;34m\u001b[0m\u001b[0;34m\u001b[0m\u001b[0m\n",
            "\u001b[0;32m/usr/local/lib/python3.7/dist-packages/pandas/io/parsers.py\u001b[0m in \u001b[0;36m__init__\u001b[0;34m(self, src, **kwds)\u001b[0m\n\u001b[1;32m   2008\u001b[0m         \u001b[0mkwds\u001b[0m\u001b[0;34m[\u001b[0m\u001b[0;34m\"usecols\"\u001b[0m\u001b[0;34m]\u001b[0m \u001b[0;34m=\u001b[0m \u001b[0mself\u001b[0m\u001b[0;34m.\u001b[0m\u001b[0musecols\u001b[0m\u001b[0;34m\u001b[0m\u001b[0;34m\u001b[0m\u001b[0m\n\u001b[1;32m   2009\u001b[0m \u001b[0;34m\u001b[0m\u001b[0m\n\u001b[0;32m-> 2010\u001b[0;31m         \u001b[0mself\u001b[0m\u001b[0;34m.\u001b[0m\u001b[0m_reader\u001b[0m \u001b[0;34m=\u001b[0m \u001b[0mparsers\u001b[0m\u001b[0;34m.\u001b[0m\u001b[0mTextReader\u001b[0m\u001b[0;34m(\u001b[0m\u001b[0msrc\u001b[0m\u001b[0;34m,\u001b[0m \u001b[0;34m**\u001b[0m\u001b[0mkwds\u001b[0m\u001b[0;34m)\u001b[0m\u001b[0;34m\u001b[0m\u001b[0;34m\u001b[0m\u001b[0m\n\u001b[0m\u001b[1;32m   2011\u001b[0m         \u001b[0mself\u001b[0m\u001b[0;34m.\u001b[0m\u001b[0munnamed_cols\u001b[0m \u001b[0;34m=\u001b[0m \u001b[0mself\u001b[0m\u001b[0;34m.\u001b[0m\u001b[0m_reader\u001b[0m\u001b[0;34m.\u001b[0m\u001b[0munnamed_cols\u001b[0m\u001b[0;34m\u001b[0m\u001b[0;34m\u001b[0m\u001b[0m\n\u001b[1;32m   2012\u001b[0m \u001b[0;34m\u001b[0m\u001b[0m\n",
            "\u001b[0;32mpandas/_libs/parsers.pyx\u001b[0m in \u001b[0;36mpandas._libs.parsers.TextReader.__cinit__\u001b[0;34m()\u001b[0m\n",
            "\u001b[0;32mpandas/_libs/parsers.pyx\u001b[0m in \u001b[0;36mpandas._libs.parsers.TextReader._setup_parser_source\u001b[0;34m()\u001b[0m\n",
            "\u001b[0;31mFileNotFoundError\u001b[0m: [Errno 2] No such file or directory: '/content/H1.csv'"
          ]
        }
      ]
    },
    {
      "cell_type": "code",
      "metadata": {
        "colab": {
          "base_uri": "https://localhost:8080/",
          "height": 312
        },
        "id": "d6GphxIQJFxu",
        "outputId": "ef57d05f-d015-4214-a021-b85822b19a25"
      },
      "source": [
        "print(history.history.keys())\n",
        "# \"Loss\"\n",
        "plt.plot(history.history['loss'])\n",
        "plt.plot(history.history['val_loss'])\n",
        "plt.title('model loss')\n",
        "plt.ylabel('loss')\n",
        "plt.xlabel('epoch')\n",
        "plt.legend(['train', 'validation'], loc='upper left')\n",
        "plt.show()"
      ],
      "execution_count": null,
      "outputs": [
        {
          "output_type": "stream",
          "name": "stdout",
          "text": [
            "dict_keys(['loss', 'mse', 'mae', 'accuracy', 'val_loss', 'val_mse', 'val_mae', 'val_accuracy'])\n"
          ]
        },
        {
          "output_type": "display_data",
          "data": {
            "image/png": "[encoded data removed]",
            "text/plain": [
              "<Figure size 432x288 with 1 Axes>"
            ]
          },
          "metadata": {
            "needs_background": "light"
          }
        }
      ]
    },
    {
      "cell_type": "code",
      "metadata": {
        "colab": {
          "base_uri": "https://localhost:8080/",
          "height": 600
        },
        "id": "eixRryH9JPal",
        "outputId": "b2719f41-83e4-4a2a-d979-11c2bd548598"
      },
      "source": [
        "predictions_trans = scaler_y.inverse_transform(predictions)\n",
        "\n",
        "\n",
        "\n",
        "print(\"MAE: \", mean_absolute_error(y_val, predictions_trans))\n",
        "\n",
        "print(\"MSE: \", math.sqrt(mean_squared_error(y_val, predictions_trans)))\n",
        "\n",
        "print(\"np.mean: \", np.mean(y_val))\n",
        "\n",
        "print(\"np.mean(pred): \", np.mean(predictions_trans))\n",
        "# k = mean_squared_error(y_val, predictions_trans)\n",
        "\n",
        "\n",
        "plt.figure(1)\n",
        "plt.scatter(y_val, predictions_trans)\n",
        "plt.scatter(range(400), range(400))\n",
        "\n",
        "plt.figure(2)\n",
        "plt.scatter(range(len(y_val)), y_val - predictions_trans)"
      ],
      "execution_count": null,
      "outputs": [
        {
          "output_type": "stream",
          "name": "stdout",
          "text": [
            "MAE:  25.93538201557632\n",
            "MSE:  37.824749912155745\n",
            "np.mean:  94.87142685971043\n",
            "np.mean(pred):  89.66307\n"
          ]
        },
        {
          "output_type": "execute_result",
          "data": {
            "text/plain": [
              "<matplotlib.collections.PathCollection at 0x7f4879493610>"
            ]
          },
          "metadata": {},
          "execution_count": 197
        },
        {
          "output_type": "display_data",
          "data": {
            "image/png": "[encoded data removed]",
            "text/plain": [
              "<Figure size 432x288 with 1 Axes>"
            ]
          },
          "metadata": {
            "needs_background": "light"
          }
        },
        {
          "output_type": "display_data",
          "data": {
            "image/png": "[encoded data removed]",
            "text/plain": [
              "<Figure size 432x288 with 1 Axes>"
            ]
          },
          "metadata": {
            "needs_background": "light"
          }
        }
      ]
    },
    {
      "cell_type": "code",
      "metadata": {
        "id": "zDvpyaMKldmA"
      },
      "source": [
        ""
      ],
      "execution_count": null,
      "outputs": []
    },
    {
      "cell_type": "code",
      "metadata": {
        "id": "IXTKk33oleBO"
      },
      "source": [
        ""
      ],
      "execution_count": null,
      "outputs": []
    },
    {
      "cell_type": "code",
      "metadata": {
        "colab": {
          "base_uri": "https://localhost:8080/",
          "height": 1000
        },
        "id": "GgpcEWmoK3ha",
        "outputId": "6a803ebc-8d46-49cd-9f41-fd58370530c1"
      },
      "source": [
        "## Testing Phase\n",
        "# Read File\n",
        "test_df = pd.read_csv(r'/content/H2.csv')\n",
        "\n",
        "\n",
        "# Output Parameter\n",
        "adr = test_df.ADR.values\n",
        "y1 = np.array(adr)\n",
        "\n",
        "k = countrycat\n",
        "\n",
        "# Convert Cat to Num\n",
        "countrycat=test_df.Country.astype(\"category\").cat.codes\n",
        "countrycat=pd.Series(countrycat)\n",
        "\n",
        "IsCanceled=test_df.IsCanceled.values\n",
        "\n",
        "marketsegmentcat=test_df.MarketSegment.astype(\"category\").cat.codes\n",
        "marketsegmentcat=pd.Series(marketsegmentcat)\n",
        "\n",
        "deposittypecat=test_df.DepositType.astype(\"category\").cat.codes\n",
        "deposittypecat=pd.Series(deposittypecat)\n",
        "\n",
        "customertypecat=test_df.CustomerType.astype(\"category\").cat.codes\n",
        "customertypecat=pd.Series(customertypecat)\n",
        "\n",
        "rcps = test_df.RequiredCarParkingSpaces.values\n",
        "\n",
        "arrivaldateweekno=test_df.ArrivalDateWeekNumber.values\n",
        "\n",
        "# Declare Input Variable\n",
        "x1 = np.column_stack((\n",
        "    IsCanceled,countrycat,marketsegmentcat,deposittypecat,\n",
        "    customertypecat,rcps,arrivaldateweekno\n",
        "    ))\n",
        "x1 = sm.add_constant(x1, prepend=True)\n",
        "\n",
        "\n",
        "# Transform\n",
        "y1=np.reshape(y1, (-1,1))\n",
        "\n",
        "scaler_x1 = MinMaxScaler()\n",
        "scaler_y1= MinMaxScaler()\n",
        "\n",
        "print(scaler_x1.fit(x1))\n",
        "x1_scale=scaler_x1.transform(x1)\n",
        "\n",
        "print(scaler_y1.fit(y1))\n",
        "y1_scale=scaler_y1.transform(y1)\n",
        "\n",
        "\n",
        "# Predictions\n",
        "bpred = model.predict(x1_scale)\n",
        "print(bpred)\n",
        "\n",
        "# Transform back to original form\n",
        "bpred_trans = scaler_y1.inverse_transform(bpred)\n",
        "\n",
        "\n",
        "\n",
        "\n",
        "\n",
        "print(\"MAE: \", mean_absolute_error(y1, bpred_trans))\n",
        "\n",
        "print(\"MSE: \", math.sqrt(mean_squared_error(y1, bpred_trans)))\n",
        "\n",
        "print(\"np.mean: \", np.mean(y1))\n",
        "\n",
        "print(\"np.mean(pred): \", np.mean(bpred_trans))\n",
        "# k = mean_squared_error(y_val, predictions_trans)\n",
        "\n",
        "print(y1)\n",
        "\n",
        "plt.figure(3)\n",
        "plt.scatter(range(len(y1)), y1 - bpred_trans)\n",
        "\n",
        "print(k)\n",
        "print(countrycat)"
      ],
      "execution_count": null,
      "outputs": [
        {
          "output_type": "stream",
          "name": "stdout",
          "text": [
            "MinMaxScaler(copy=True, feature_range=(0, 1))\n",
            "MinMaxScaler(copy=True, feature_range=(0, 1))\n",
            "[[0.1765739 ]\n",
            " [0.20669502]\n",
            " [0.20669502]\n",
            " ...\n",
            " [0.29104432]\n",
            " [0.29267383]\n",
            " [0.29104432]]\n",
            "MAE:  837.005678482134\n",
            "MSE:  931.4824961173954\n",
            "np.mean:  105.30446539770578\n",
            "np.mean(pred):  941.9857\n",
            "[[  0.  ]\n",
            " [ 76.5 ]\n",
            " [ 68.  ]\n",
            " ...\n",
            " [157.71]\n",
            " [104.4 ]\n",
            " [151.2 ]]\n",
            "0        95\n",
            "1        95\n",
            "2        45\n",
            "3        45\n",
            "4        45\n",
            "         ..\n",
            "40055    45\n",
            "40056    55\n",
            "40057    55\n",
            "40058    45\n",
            "40059    33\n",
            "Length: 40060, dtype: int8\n",
            "0        125\n",
            "1        125\n",
            "2        125\n",
            "3        125\n",
            "4        125\n",
            "        ... \n",
            "79325     14\n",
            "79326     50\n",
            "79327     39\n",
            "79328     53\n",
            "79329     39\n",
            "Length: 79330, dtype: int16\n"
          ]
        },
        {
          "output_type": "display_data",
          "data": {
            "image/png": "[encoded data removed]",
            "text/plain": [
              "<Figure size 432x288 with 1 Axes>"
            ]
          },
          "metadata": {
            "needs_background": "light"
          }
        }
      ]
    }
  ]
}